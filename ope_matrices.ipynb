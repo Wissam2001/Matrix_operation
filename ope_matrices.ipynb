{
 "cells": [
  {
   "cell_type": "code",
   "execution_count": 72,
   "metadata": {},
   "outputs": [],
   "source": [
    "#the transpose matrix\n",
    "def transpose(t):\n",
    "    p = []\n",
    "    for i in range (len(t[0])):\n",
    "        L = []\n",
    "        for j in range (len(t)):\n",
    "            L.append(t[j][i])\n",
    "        p.append(L)\n",
    "    return p"
   ]
  },
  {
   "cell_type": "code",
   "execution_count": 73,
   "metadata": {},
   "outputs": [],
   "source": [
    "#product matrix\n",
    "def product (A,B):\n",
    "    P = []\n",
    "    for i in range (len(A)):\n",
    "        S=[]\n",
    "        for j in range (len (B[0])):\n",
    "            \n",
    "            s=0\n",
    "            for k in range (len(B)):\n",
    "                s += A[i][k] * B[k][j]\n",
    "            S.append(s)\n",
    "        P.append(S)\n",
    "    return P"
   ]
  },
  {
   "cell_type": "code",
   "execution_count": 74,
   "metadata": {},
   "outputs": [],
   "source": [
    "#inverse matrix\n",
    "def getMatrixMinor(m,i,j):\n",
    "    return [row[:j] + row[j+1:] for row in (m[:i]+m[i+1:])]\n",
    "\n",
    "def getMatrixDeternminant(m):\n",
    "    #base case for 2x2 matrix\n",
    "    if len(m) == 2:\n",
    "        return m[0][0]*m[1][1]-m[0][1]*m[1][0]\n",
    "\n",
    "    determinant = 0\n",
    "    for c in range(len(m)):\n",
    "        determinant += ((-1)**c)*m[0][c]*getMatrixDeternminant(getMatrixMinor(m,0,c))\n",
    "    return determinant\n",
    "\n",
    "def getInverse(m):\n",
    "    determinant = getMatrixDeternminant(m)\n",
    "    #special case for 2x2 matrix:\n",
    "    if len(m) == 2:\n",
    "        return [[m[1][1]/determinant, -1*m[0][1]/determinant],\n",
    "                [-1*m[1][0]/determinant, m[0][0]/determinant]]\n",
    "\n",
    "    #find matrix of cofactors\n",
    "    cofactors = []\n",
    "    for r in range(len(m)):\n",
    "        cofactorRow = []\n",
    "        for c in range(len(m)):\n",
    "            minor = getMatrixMinor(m,r,c)\n",
    "            cofactorRow.append(((-1)**(r+c)) * getMatrixDeternminant(minor))\n",
    "        cofactors.append(cofactorRow)\n",
    "    for r in range(len(cofactors)):\n",
    "        for c in range(len(cofactors)):\n",
    "            cofactors[r][c] = cofactors[r][c]/determinant\n",
    "    return transpose(cofactors)"
   ]
  },
  {
   "cell_type": "markdown",
   "metadata": {},
   "source": [
    "1d case"
   ]
  },
  {
   "cell_type": "code",
   "execution_count": 75,
   "metadata": {},
   "outputs": [],
   "source": [
    "\n",
    "# Calculate the projection matrix P \n",
    "def proj_mat_1d(b,x): \n",
    " \n",
    "    prod1 = product(b ,transpose(b))\n",
    "    prod2 = product(transpose(b) , b) # compute lamba\n",
    "    \n",
    "    P = product(prod2 , x)\n",
    "    return print(P ,'*1/',prod1)"
   ]
  },
  {
   "cell_type": "code",
   "execution_count": 76,
   "metadata": {},
   "outputs": [
    {
     "name": "stdout",
     "output_type": "stream",
     "text": [
      "[[1, 1, 1], [-2, -2, -2], [-3, -3, -3]] *1/ [[14]]\n",
      "None\n"
     ]
    }
   ],
   "source": [
    "b = [[-1,2,3]]\n",
    "x = [[1,1,1]]\n",
    "len(b)\n",
    "print(proj_mat_1d(b,x))"
   ]
  },
  {
   "cell_type": "markdown",
   "metadata": {},
   "source": [
    "dot product case"
   ]
  },
  {
   "cell_type": "code",
   "execution_count": 83,
   "metadata": {},
   "outputs": [],
   "source": [
    "def Orth_Proj(M,x):\n",
    "    #computing MT . M and MT.x\n",
    "    \n",
    "    c1 = getInverse(product(transpose(M),M))\n",
    "    c2 = product(c1 , transpose(M))\n",
    "    \n",
    "    P = product(M , c2)\n",
    "    print('The projection Matrix is:\\n',P)\n",
    "    \n",
    "    #projection\n",
    "    y = product(P , x)\n",
    "    print('the projected vector on the subspace is:\\n',y)"
   ]
  },
  {
   "cell_type": "code",
   "execution_count": 84,
   "metadata": {},
   "outputs": [
    {
     "name": "stdout",
     "output_type": "stream",
     "text": [
      "The projection Matrix is:\n",
      " [[0.6666666666666666, 0.3333333333333333, 0.3333333333333333], [0.3333333333333333, 0.6666666666666666, -0.3333333333333333], [0.3333333333333333, -0.3333333333333333, 0.6666666666666666]]\n",
      "the projected vector on the subspace is:\n",
      " [[0.3333333333333333], [0.6666666666666666], [-0.3333333333333333]]\n"
     ]
    }
   ],
   "source": [
    "M = [[1,2],\n",
    "     [2,1],\n",
    "     [-1,1]]\n",
    "\n",
    "x = [[0],\n",
    "     [1],\n",
    "     [0]]\n",
    "Orth_Proj(M,x)"
   ]
  },
  {
   "cell_type": "raw",
   "metadata": {},
   "source": [
    "inner product case"
   ]
  },
  {
   "cell_type": "code",
   "execution_count": 85,
   "metadata": {},
   "outputs": [],
   "source": [
    "def Orth2_Proj(M,T,x):\n",
    "    \n",
    "    \n",
    "    c1 = product(M ,getInverse(product(product(transpose(M),T),M)))\n",
    "    \n",
    "    c2 = product(transpose(M),T)\n",
    "    P = product(c1,c2)\n",
    "    print('The projection Matrix is:\\n',P)\n",
    "    \n",
    "    #projection\n",
    "   \n",
    "    y = product(P , x)\n",
    "    print('the projected vector on the subspace is:\\n',y)"
   ]
  },
  {
   "cell_type": "code",
   "execution_count": 86,
   "metadata": {},
   "outputs": [
    {
     "name": "stdout",
     "output_type": "stream",
     "text": [
      "The projection Matrix is:\n",
      " [[1.0, 0.5, 0.0], [0.0, 0.0, 0.0], [0.0, -0.5, 1.0]]\n",
      "the projected vector on the subspace is:\n",
      " [[0.5], [0.0], [-0.5]]\n"
     ]
    }
   ],
   "source": [
    "M = [[1,0],\n",
    "     [0,0],\n",
    "     [0,1]]\n",
    "\n",
    "T = [[2,1,0],\n",
    "     [1,2,-1],\n",
    "     [0,-1,2]]\n",
    "\n",
    "x = [[0],\n",
    "     [1],\n",
    "     [0]]\n",
    "\n",
    "Orth2_Proj(M,T,x)"
   ]
  },
  {
   "cell_type": "code",
   "execution_count": null,
   "metadata": {},
   "outputs": [],
   "source": []
  }
 ],
 "metadata": {
  "kernelspec": {
   "display_name": "Python 3 (ipykernel)",
   "language": "python",
   "name": "python3"
  },
  "language_info": {
   "codemirror_mode": {
    "name": "ipython",
    "version": 3
   },
   "file_extension": ".py",
   "mimetype": "text/x-python",
   "name": "python",
   "nbconvert_exporter": "python",
   "pygments_lexer": "ipython3",
   "version": "3.9.16"
  }
 },
 "nbformat": 4,
 "nbformat_minor": 4
}
